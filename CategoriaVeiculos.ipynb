{
  "nbformat": 4,
  "nbformat_minor": 0,
  "metadata": {
    "colab": {
      "provenance": []
    },
    "kernelspec": {
      "name": "python3",
      "display_name": "Python 3"
    },
    "language_info": {
      "name": "python"
    }
  },
  "cells": [
    {
      "cell_type": "code",
      "execution_count": 2,
      "metadata": {
        "colab": {
          "base_uri": "https://localhost:8080/"
        },
        "id": "PwidQNmRGOyj",
        "outputId": "fb5cb84d-2382-495d-f6e3-514b165d2a3c"
      },
      "outputs": [
        {
          "output_type": "stream",
          "name": "stdout",
          "text": [
            "Digite a quantidade de rodas do veículo: 2\n",
            "Digite o peso bruto do veículo (em kg): 3000\n",
            "Digite a quantidade de pessoas no veículo: 2\n",
            "Categoria A: Veículos com duas ou três rodas.\n"
          ]
        }
      ],
      "source": [
        "def categoria_habilitacao(rodas, peso_bruto, pessoas):\n",
        "    if rodas in [2, 3]:\n",
        "        return \"Categoria A: Veículos com duas ou três rodas.\"\n",
        "    elif rodas == 4 and pessoas <= 8 and peso_bruto <= 3500:\n",
        "        return \"Categoria B: Veículos com quatro rodas, que acomodam até oito pessoas e seu peso é de até 3500 kg.\"\n",
        "    elif rodas >= 4 and 3500 < peso_bruto <= 6000:\n",
        "        return \"Categoria C: Veículos com quatro rodas ou mais e com peso entre 3500 e 6000 kg.\"\n",
        "    elif rodas >= 4 and pessoas > 8:\n",
        "        return \"Categoria D: Veículos com quatro rodas ou mais e que acomodam mais de oito pessoas.\"\n",
        "    elif rodas >= 4 and peso_bruto > 6000:\n",
        "        return \"Categoria E: Veículos com quatro rodas ou mais e com mais de 6000 kg.\"\n",
        "    else:\n",
        "        return \"Não há uma categoria de habilitação definida para este veículo.\"\n",
        "\n",
        "\n",
        "rodas = int(input(\"Digite a quantidade de rodas do veículo: \"))\n",
        "peso_bruto = float(input(\"Digite o peso bruto do veículo (em kg): \"))\n",
        "pessoas = int(input(\"Digite a quantidade de pessoas no veículo: \")\n",
        "\n",
        "categoria = categoria_habilitacao(rodas, peso_bruto, pessoas)\n",
        "print(categoria)\n"
      ]
    },
    {
      "cell_type": "code",
      "source": [],
      "metadata": {
        "id": "ayM7SSeMGZhe"
      },
      "execution_count": null,
      "outputs": []
    }
  ]
}